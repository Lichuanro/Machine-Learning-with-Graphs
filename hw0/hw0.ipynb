{
  "nbformat": 4,
  "nbformat_minor": 0,
  "metadata": {
    "colab": {
      "name": "cs224w-hw0.ipynb",
      "provenance": []
    },
    "kernelspec": {
      "name": "python3",
      "display_name": "Python 3"
    }
  },
  "cells": [
    {
      "cell_type": "code",
      "metadata": {
        "id": "sh8CXIpgewVk",
        "colab_type": "code",
        "colab": {}
      },
      "source": [
        "!apt-get install gnuplot\n",
        "!pip install snap-stanford"
      ],
      "execution_count": 0,
      "outputs": []
    },
    {
      "cell_type": "code",
      "metadata": {
        "id": "ZTsdAb7MflOC",
        "colab_type": "code",
        "colab": {}
      },
      "source": [
        "import snap\n",
        "import numpy as np\n",
        "import matplotlib.pyplot as plt\n",
        "from IPython.display import Image"
      ],
      "execution_count": 0,
      "outputs": []
    },
    {
      "cell_type": "markdown",
      "metadata": {
        "id": "9VkNhb5n2IYD",
        "colab_type": "text"
      },
      "source": [
        "Problem 1"
      ]
    },
    {
      "cell_type": "code",
      "metadata": {
        "id": "REPTaBkSglFH",
        "colab_type": "code",
        "colab": {}
      },
      "source": [
        "wiki = snap.LoadEdgeList(snap.PNGraph,\"wiki-Vote.txt\",0,1)"
      ],
      "execution_count": 0,
      "outputs": []
    },
    {
      "cell_type": "code",
      "metadata": {
        "id": "Iw-6mpO-zV1c",
        "colab_type": "code",
        "colab": {
          "base_uri": "https://localhost:8080/",
          "height": 340
        },
        "outputId": "56e8b29a-7115-46a7-9c91-fb955d1dd131"
      },
      "source": [
        "snap.PrintInfo(wiki, \"wiki Stats\", \"wiki-info.txt\", False)\n",
        "with open('wiki-info.txt', 'r') as f:\n",
        "  print(f.read())"
      ],
      "execution_count": 26,
      "outputs": [
        {
          "output_type": "stream",
          "text": [
            "wiki Stats: Directed\n",
            "  Nodes:                    7115\n",
            "  Edges:                    103689\n",
            "  Zero Deg Nodes:           0\n",
            "  Zero InDeg Nodes:         4734\n",
            "  Zero OutDeg Nodes:        1005\n",
            "  NonZero In-Out Deg Nodes: 1376\n",
            "  Unique directed edges:    103689\n",
            "  Unique undirected edges:  100762\n",
            "  Self Edges:               0\n",
            "  BiDir Edges:              5854\n",
            "  Closed triangles:         608389\n",
            "  Open triangles:           12720413\n",
            "  Frac. of closed triads:   0.045645\n",
            "  Connected component size: 0.993113\n",
            "  Strong conn. comp. size:  0.182713\n",
            "  Approx. full diameter:    7\n",
            "  90% effective diameter:  3.724185\n",
            "\n"
          ],
          "name": "stdout"
        }
      ]
    },
    {
      "cell_type": "code",
      "metadata": {
        "id": "6fQ1DAjI0qPt",
        "colab_type": "code",
        "colab": {
          "base_uri": "https://localhost:8080/",
          "height": 51
        },
        "outputId": "ee6956d3-b2a0-4391-8de2-95b3fbcdd7cc"
      },
      "source": [
        "ten_more_out = 0\n",
        "ten_less_in = 0\n",
        "for n in wiki.Nodes():\n",
        "  if n.GetOutDeg() > 10:\n",
        "    ten_more_out += 1\n",
        "  if n.GetInDeg() < 10:\n",
        "    ten_less_in += 1\n",
        "print('number of nodes with more than 10 outgoing edges: ', ten_more_out)\n",
        "print('number of nodes with fewer than 10 incoming edges: ', ten_less_in)"
      ],
      "execution_count": 27,
      "outputs": [
        {
          "output_type": "stream",
          "text": [
            "number of nodes with more than 10 outgoing edges:  1612\n",
            "number of nodes with fewer than 10 incoming edges:  5165\n"
          ],
          "name": "stdout"
        }
      ]
    },
    {
      "cell_type": "markdown",
      "metadata": {
        "id": "csYBiKCM2MjV",
        "colab_type": "text"
      },
      "source": [
        "Problem 2"
      ]
    },
    {
      "cell_type": "code",
      "metadata": {
        "id": "KieFhPSj3F3V",
        "colab_type": "code",
        "colab": {}
      },
      "source": [
        "out_deg_cnt = dict()\n",
        "for n in wiki.Nodes():\n",
        "  out_deg = n.GetOutDeg()\n",
        "  out_deg_cnt[out_deg] = out_deg_cnt.get(out_deg, 0) + 1"
      ],
      "execution_count": 0,
      "outputs": []
    },
    {
      "cell_type": "code",
      "metadata": {
        "id": "whrknxki7ill",
        "colab_type": "code",
        "colab": {}
      },
      "source": [
        "log_x = []\n",
        "log_y = []\n",
        "for x, y in sorted(out_deg_cnt.items()):\n",
        "  if x > 0 and y > 1:\n",
        "    log_x.append(np.log10(x))\n",
        "    log_y.append(np.log10(y))"
      ],
      "execution_count": 0,
      "outputs": []
    },
    {
      "cell_type": "code",
      "metadata": {
        "id": "W7J3Gtwh9rCl",
        "colab_type": "code",
        "colab": {
          "base_uri": "https://localhost:8080/",
          "height": 325
        },
        "outputId": "5acb0675-24e3-45a8-d10b-89f11edf5fc5"
      },
      "source": [
        "fig = plt.figure()\n",
        "plt.plot(log_x, log_y)\n",
        "fig.suptitle('Distribution of Outdegree')\n",
        "plt.xlabel('log out degree')\n",
        "plt.ylabel('log count')"
      ],
      "execution_count": 50,
      "outputs": [
        {
          "output_type": "execute_result",
          "data": {
            "text/plain": [
              "Text(0, 0.5, 'log count')"
            ]
          },
          "metadata": {
            "tags": []
          },
          "execution_count": 50
        },
        {
          "output_type": "display_data",
          "data": {
            "image/png": "[encoded data removed]",
            "text/plain": [
              "<Figure size 432x288 with 1 Axes>"
            ]
          },
          "metadata": {
            "tags": [],
            "needs_background": "light"
          }
        }
      ]
    },
    {
      "cell_type": "code",
      "metadata": {
        "id": "cLjd1qwf9-Kp",
        "colab_type": "code",
        "colab": {}
      },
      "source": [
        "from sklearn.linear_model import LinearRegression"
      ],
      "execution_count": 0,
      "outputs": []
    },
    {
      "cell_type": "code",
      "metadata": {
        "id": "yZABKevh_Vj0",
        "colab_type": "code",
        "colab": {}
      },
      "source": [
        "lr = LinearRegression()\n",
        "lr.fit(np.array(log_x).reshape(-1, 1), log_y)\n",
        "coef, intercept = lr.coef_[0], lr.intercept_"
      ],
      "execution_count": 0,
      "outputs": []
    },
    {
      "cell_type": "code",
      "metadata": {
        "id": "PFyJ5W2S_a9p",
        "colab_type": "code",
        "colab": {
          "base_uri": "https://localhost:8080/",
          "height": 325
        },
        "outputId": "94e208f1-dfa4-49c1-cdc0-c181d8c9d6de"
      },
      "source": [
        "fig = plt.figure()\n",
        "plt.plot(log_x, log_y)\n",
        "plt.plot(log_x, coef*np.array(log_x)+intercept, c='red')\n",
        "fig.suptitle('Distribution of Outdegree + linear regression')\n",
        "plt.xlabel('log out degree')\n",
        "plt.ylabel('log count')"
      ],
      "execution_count": 62,
      "outputs": [
        {
          "output_type": "execute_result",
          "data": {
            "text/plain": [
              "Text(0, 0.5, 'log count')"
            ]
          },
          "metadata": {
            "tags": []
          },
          "execution_count": 62
        },
        {
          "output_type": "display_data",
          "data": {
            "image/png": "[encoded data removed]",
            "text/plain": [
              "<Figure size 432x288 with 1 Axes>"
            ]
          },
          "metadata": {
            "tags": [],
            "needs_background": "light"
          }
        }
      ]
    },
    {
      "cell_type": "markdown",
      "metadata": {
        "id": "CxzIQ8RXAvF6",
        "colab_type": "text"
      },
      "source": [
        "Problem 3"
      ]
    },
    {
      "cell_type": "code",
      "metadata": {
        "id": "KY9bSVGYAEN3",
        "colab_type": "code",
        "colab": {}
      },
      "source": [
        "sof = snap.LoadEdgeList(snap.PNGraph,\"stackoverflow-Java.txt\",0,1)"
      ],
      "execution_count": 0,
      "outputs": []
    },
    {
      "cell_type": "code",
      "metadata": {
        "id": "TQ2Z1DM9A8_f",
        "colab_type": "code",
        "colab": {
          "base_uri": "https://localhost:8080/",
          "height": 34
        },
        "outputId": "69469aac-7f0c-4995-e6fe-9ef4ae12549d"
      },
      "source": [
        "Components = snap.TCnComV()\n",
        "snap.GetWccs(sof, Components)\n",
        "print(\"Number of component: %d\" % len(Components))"
      ],
      "execution_count": 69,
      "outputs": [
        {
          "output_type": "stream",
          "text": [
            "Number of component: 10143\n"
          ],
          "name": "stdout"
        }
      ]
    },
    {
      "cell_type": "code",
      "metadata": {
        "id": "_PRo7CmqB3AU",
        "colab_type": "code",
        "colab": {
          "base_uri": "https://localhost:8080/",
          "height": 34
        },
        "outputId": "c064d650-c4c6-4355-87fc-6ff60c4a4bde"
      },
      "source": [
        "MxWcc = snap.GetMxWcc(sof)\n",
        "print(\"max wcc nodes %d, edges %d\" % (MxWcc.GetNodes(), MxWcc.GetEdges()) )"
      ],
      "execution_count": 70,
      "outputs": [
        {
          "output_type": "stream",
          "text": [
            "max wcc nodes 131188, edges 322486\n"
          ],
          "name": "stdout"
        }
      ]
    },
    {
      "cell_type": "code",
      "metadata": {
        "id": "sastEwOSCa0W",
        "colab_type": "code",
        "colab": {
          "base_uri": "https://localhost:8080/",
          "height": 68
        },
        "outputId": "c5a1784b-a076-4cf3-f123-dc0f211772db"
      },
      "source": [
        "PRankH = snap.TIntFltH()\n",
        "snap.GetPageRank(sof, PRankH)\n",
        "PRankH.SortByDat(False)\n",
        "cnt = 0\n",
        "for id_ in PRankH:\n",
        "  print(id_, PRankH[id_])\n",
        "  cnt += 1\n",
        "  if cnt == 3:\n",
        "    break"
      ],
      "execution_count": 84,
      "outputs": [
        {
          "output_type": "stream",
          "text": [
            "992484 0.013980540412209575\n",
            "135152 0.010005538895741885\n",
            "22656 0.007103532693128619\n"
          ],
          "name": "stdout"
        }
      ]
    },
    {
      "cell_type": "code",
      "metadata": {
        "id": "72UTibsOEIRa",
        "colab_type": "code",
        "colab": {
          "base_uri": "https://localhost:8080/",
          "height": 170
        },
        "outputId": "cbbeec77-cd6e-48d8-8748-a19dd16fc2a3"
      },
      "source": [
        "NIdHubH = snap.TIntFltH()\n",
        "NIdAuthH = snap.TIntFltH()\n",
        "snap.GetHits(sof, NIdHubH, NIdAuthH)\n",
        "NIdHubH.SortByDat(False)\n",
        "NIdAuthH.SortByDat(False)\n",
        "print('Hubs')\n",
        "cnt = 0\n",
        "for id_ in NIdHubH:\n",
        "  print(id_, NIdHubH[id_])\n",
        "  cnt += 1\n",
        "  if cnt == 3:\n",
        "    break\n",
        "print()\n",
        "print('Authorities')\n",
        "cnt = 0\n",
        "for id_ in NIdAuthH:\n",
        "  print(id_, NIdAuthH[id_])\n",
        "  cnt += 1\n",
        "  if cnt == 3:\n",
        "    break"
      ],
      "execution_count": 86,
      "outputs": [
        {
          "output_type": "stream",
          "text": [
            "Hubs\n",
            "892029 0.07336380373389548\n",
            "1194415 0.05955074418794487\n",
            "359862 0.05687564588068672\n",
            "\n",
            "Authorities\n",
            "22656 0.6047239730413133\n",
            "157882 0.2986993488728824\n",
            "571407 0.2839071934144654\n"
          ],
          "name": "stdout"
        }
      ]
    },
    {
      "cell_type": "code",
      "metadata": {
        "id": "ICX21Pq5FB6E",
        "colab_type": "code",
        "colab": {}
      },
      "source": [
        ""
      ],
      "execution_count": 0,
      "outputs": []
    }
  ]
}
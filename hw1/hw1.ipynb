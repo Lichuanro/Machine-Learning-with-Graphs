{
  "nbformat": 4,
  "nbformat_minor": 0,
  "metadata": {
    "colab": {
      "name": "hw1.ipynb",
      "provenance": []
    },
    "kernelspec": {
      "name": "python3",
      "display_name": "Python 3"
    }
  },
  "cells": [
    {
      "cell_type": "code",
      "metadata": {
        "id": "u0KraTccIspQ",
        "colab_type": "code",
        "colab": {}
      },
      "source": [
        "!apt-get install gnuplot\n",
        "!pip install snap-stanford"
      ],
      "execution_count": 0,
      "outputs": []
    },
    {
      "cell_type": "code",
      "metadata": {
        "id": "JCCxWG8DIzgl",
        "colab_type": "code",
        "colab": {}
      },
      "source": [
        "!wget http://snap.stanford.edu/data/ca-GrQc.txt.gz\n",
        "!gunzip ca-GrQc.txt.gz"
      ],
      "execution_count": 0,
      "outputs": []
    },
    {
      "cell_type": "code",
      "metadata": {
        "id": "zkVfVMcDQ5NE",
        "colab_type": "code",
        "colab": {}
      },
      "source": [
        "import random\n",
        "import numpy as np\n",
        "import snap\n",
        "from collections import Counter, defaultdict\n",
        "import matplotlib.pyplot as plt\n",
        "from IPython.display import Image"
      ],
      "execution_count": 0,
      "outputs": []
    },
    {
      "cell_type": "markdown",
      "metadata": {
        "id": "KDivjD5gPVsP",
        "colab_type": "text"
      },
      "source": [
        "Generate a random instance of this model by using n = 5242 nodes and picking m = 14484 edges at random."
      ]
    },
    {
      "cell_type": "code",
      "metadata": {
        "id": "7PYrbnSUPW77",
        "colab_type": "code",
        "colab": {}
      },
      "source": [
        "def create_Erdos_Renyi_model(n=5242, m=14484):\n",
        "    nodes = list(range(n))\n",
        "    edges = set()\n",
        "    while len(edges) < m:\n",
        "        # add edge\n",
        "        a, b = sorted(random.choices(nodes, k=2))\n",
        "        if a < b: # filter a == b\n",
        "            edges.add((a, b,))\n",
        "    return nodes, edges"
      ],
      "execution_count": 0,
      "outputs": []
    },
    {
      "cell_type": "code",
      "metadata": {
        "id": "FdNqMvtEQJby",
        "colab_type": "code",
        "colab": {}
      },
      "source": [
        "def create_small_world_model(n=5242, m=14484):\n",
        "    nodes = list(range(n))\n",
        "    edges = set()\n",
        "    for i in range(n):\n",
        "        prev = nodes[i-1]\n",
        "        prev_2 = nodes[i-2]\n",
        "        edges.add((prev, i,))\n",
        "        edges.add((prev_2, i,))\n",
        "    while len(edges) < m:\n",
        "        a, b = sorted(random.choices(nodes, k=2))\n",
        "        if a < b:\n",
        "            edges.add((a, b,))\n",
        "    return nodes, edges"
      ],
      "execution_count": 0,
      "outputs": []
    },
    {
      "cell_type": "code",
      "metadata": {
        "id": "IoUkIlgpQM9u",
        "colab_type": "code",
        "colab": {}
      },
      "source": [
        "def get_degree_dist(n, e):\n",
        "    deg = [0] * n\n",
        "    for a, b in e:\n",
        "        deg[a] += 1\n",
        "        deg[b] += 1\n",
        "    return Counter(deg)"
      ],
      "execution_count": 0,
      "outputs": []
    },
    {
      "cell_type": "code",
      "metadata": {
        "id": "c5Ju4EfDS1ya",
        "colab_type": "code",
        "colab": {}
      },
      "source": [
        "def get_log_xy(cnt):\n",
        "    log_x = []\n",
        "    log_y = []\n",
        "    for x, y in sorted(cnt.items()):\n",
        "        if x > 0 and y > 1:\n",
        "            log_x.append(np.log10(x))\n",
        "            log_y.append(np.log10(y))\n",
        "    return log_x, log_y"
      ],
      "execution_count": 0,
      "outputs": []
    },
    {
      "cell_type": "code",
      "metadata": {
        "id": "_SsRFWjJbGPf",
        "colab_type": "code",
        "colab": {}
      },
      "source": [
        "erdos = get_degree_dist(5242, create_Erdos_Renyi_model()[1])\n",
        "small_world = get_degree_dist(5242, create_small_world_model()[1])"
      ],
      "execution_count": 0,
      "outputs": []
    },
    {
      "cell_type": "code",
      "metadata": {
        "id": "xu09ihG2Kd4q",
        "colab_type": "code",
        "colab": {}
      },
      "source": [
        "ca = snap.LoadEdgeList(snap.PNGraph,\"ca-GrQc.txt\",0,1)\n",
        "\n",
        "ca_deg = dict()\n",
        "DegToCntV = snap.TIntPrV()\n",
        "snap.GetDegCnt(ca, DegToCntV)\n",
        "for item in DegToCntV:\n",
        "    n, d = item.GetVal2(), item.GetVal1()\n",
        "    ca_deg[d] = n"
      ],
      "execution_count": 0,
      "outputs": []
    },
    {
      "cell_type": "code",
      "metadata": {
        "id": "YZYoyw8xbVsg",
        "colab_type": "code",
        "outputId": "cda44c06-d27f-4344-ca22-6ceedb7e262d",
        "colab": {
          "base_uri": "https://localhost:8080/",
          "height": 312
        }
      },
      "source": [
        "plt.title('Degree Distribution')\n",
        "plt.plot(*get_log_xy(erdos), color = 'y', label = 'Erdos Renyi Network')\n",
        "plt.plot(*get_log_xy(small_world), linestyle = 'dashed', color = 'r', label = 'Small World Network')\n",
        "plt.plot(*get_log_xy(ca_deg), linestyle = 'dotted', color = 'b', label = 'Collaboration Network')\n",
        "plt.xlabel('log out degree')\n",
        "plt.ylabel('log count')\n",
        "plt.legend()"
      ],
      "execution_count": 24,
      "outputs": [
        {
          "output_type": "execute_result",
          "data": {
            "text/plain": [
              "<matplotlib.legend.Legend at 0x7f6a8c3b96d8>"
            ]
          },
          "metadata": {
            "tags": []
          },
          "execution_count": 24
        },
        {
          "output_type": "display_data",
          "data": {
            "image/png": "[encoded data removed]",
            "text/plain": [
              "<Figure size 432x288 with 1 Axes>"
            ]
          },
          "metadata": {
            "tags": [],
            "needs_background": "light"
          }
        }
      ]
    },
    {
      "cell_type": "markdown",
      "metadata": {
        "id": "ELgDfjM8giiQ",
        "colab_type": "text"
      },
      "source": [
        "Clustering Coefficient"
      ]
    },
    {
      "cell_type": "code",
      "metadata": {
        "id": "mhRSbQdtdH3u",
        "colab_type": "code",
        "colab": {}
      },
      "source": [
        "def cal_coef(n, e):\n",
        "    adj = defaultdict(set)\n",
        "    for s1, s2 in e:\n",
        "        adj[s1].add(s2)\n",
        "        adj[s2].add(s1)\n",
        "    C_i = []\n",
        "    for i in n:\n",
        "        k = len(adj[i])\n",
        "        if k > 1:\n",
        "            e = 0\n",
        "            for nei in adj[i]:\n",
        "                e += len(adj[nei])\n",
        "            C_i.append(2*e / k*(k-1))\n",
        "    return sum(C_i) / len(n)"
      ],
      "execution_count": 0,
      "outputs": []
    },
    {
      "cell_type": "code",
      "metadata": {
        "id": "RJOSu5MNPxsc",
        "colab_type": "code",
        "colab": {
          "base_uri": "https://localhost:8080/",
          "height": 34
        },
        "outputId": "222d16d4-64fd-4f6d-de9c-4af9611c6e89"
      },
      "source": [
        "cal_coef(*create_Erdos_Renyi_model())"
      ],
      "execution_count": 34,
      "outputs": [
        {
          "output_type": "execute_result",
          "data": {
            "text/plain": [
              "59.33580248760525"
            ]
          },
          "metadata": {
            "tags": []
          },
          "execution_count": 34
        }
      ]
    },
    {
      "cell_type": "code",
      "metadata": {
        "id": "IW8uF21LjBvY",
        "colab_type": "code",
        "colab": {
          "base_uri": "https://localhost:8080/",
          "height": 34
        },
        "outputId": "285c7cdd-1140-4c3d-9b25-444f49f28a95"
      },
      "source": [
        "cal_coef(*create_small_world_model())"
      ],
      "execution_count": 36,
      "outputs": [
        {
          "output_type": "execute_result",
          "data": {
            "text/plain": [
              "52.59185429539314"
            ]
          },
          "metadata": {
            "tags": []
          },
          "execution_count": 36
        }
      ]
    },
    {
      "cell_type": "code",
      "metadata": {
        "id": "ql40W9ij6UUm",
        "colab_type": "code",
        "colab": {}
      },
      "source": [
        "ca_node = []\n",
        "for n in ca.Nodes():\n",
        "    ca_node.append(n.GetId())"
      ],
      "execution_count": 0,
      "outputs": []
    },
    {
      "cell_type": "code",
      "metadata": {
        "id": "poAVOL-Y6y0-",
        "colab_type": "code",
        "colab": {}
      },
      "source": [
        "ca_edge = []\n",
        "for e in ca.Edges():\n",
        "    ca_edge.append((e.GetSrcNId(), e.GetDstNId(),))"
      ],
      "execution_count": 0,
      "outputs": []
    },
    {
      "cell_type": "code",
      "metadata": {
        "id": "OrKOnJvv79du",
        "colab_type": "code",
        "colab": {
          "base_uri": "https://localhost:8080/",
          "height": 34
        },
        "outputId": "f2381ba7-d6e1-4913-a67b-5f3aea62b592"
      },
      "source": [
        "cal_coef(ca_node, ca_edge)"
      ],
      "execution_count": 47,
      "outputs": [
        {
          "output_type": "execute_result",
          "data": {
            "text/plain": [
              "167.1321427787902"
            ]
          },
          "metadata": {
            "tags": []
          },
          "execution_count": 47
        }
      ]
    },
    {
      "cell_type": "code",
      "metadata": {
        "id": "ewBYKYd58Clg",
        "colab_type": "code",
        "colab": {}
      },
      "source": [
        ""
      ],
      "execution_count": 0,
      "outputs": []
    }
  ]
}